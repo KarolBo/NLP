{
 "cells": [
  {
   "cell_type": "code",
   "execution_count": 2,
   "metadata": {
    "id": "0XC5ASXZ8XDH"
   },
   "outputs": [],
   "source": [
    "import random\r\n",
    "import sys\r\n",
    "from typing import Callable, List\r\n",
    "\r\n",
    "import numpy as np\r\n",
    "import pandas as pd\r\n",
    "from sklearn.datasets import make_classification\r\n",
    "from sklearn.linear_model import LogisticRegression\r\n",
    "\r\n",
    "from sklearn.metrics import accuracy_score\r\n",
    "from sklearn.model_selection import train_test_split\r\n",
    "import time"
   ]
  },
  {
   "cell_type": "code",
   "execution_count": 4,
   "metadata": {
    "id": "PayJ9rfy8bvU"
   },
   "outputs": [],
   "source": [
    "class LogLinearModel:\n",
    "    def __init__(\n",
    "        self,\n",
    "        feature_function: Callable,\n",
    "        learning_rate: float,\n",
    "        iterations: int,\n",
    "        loss: Callable,\n",
    "        gradient_loss: Callable,\n",
    "        verbose: bool = False,\n",
    "    ):\n",
    "        \"\"\"\n",
    "        Parameters\n",
    "        ---\n",
    "        feature_function : Callable\n",
    "            Feature function mapping from X x Y -> R^m\n",
    "        learning_rate : float\n",
    "            Learning rate parameter eta for gradient descent\n",
    "        iterations : int\n",
    "            Number of iterations to run gradient descent for during `fit`\n",
    "        loss : Callable\n",
    "            Loss function to be used by this LogLinearModel instance as\n",
    "            a function of the parameters and the data X and y\n",
    "        gradient_loss : Callable\n",
    "            Closed form gradient of the `loss` function used for gradient descent as\n",
    "            a function of the parameters and the data X and y\n",
    "        verbose : bool\n",
    "            Verbosity level of the class. If verbose == True,\n",
    "            the class will print updates about the gradient\n",
    "            descent steps during `fit`\n",
    "\n",
    "        \"\"\"\n",
    "        self.feature_function = feature_function\n",
    "        self.theta = None\n",
    "        self.alpha = learning_rate\n",
    "        self.iterations = iterations\n",
    "        self.loss = loss\n",
    "        self.gradient_loss = gradient_loss\n",
    "        self.verbose = verbose\n",
    "\n",
    "    def gradient_descent(self, X: np.ndarray, y: np.ndarray):\n",
    "        \"\"\"Performs one gradient descent step, and update parameters inplace.\n",
    "\n",
    "        Parameters\n",
    "        ---\n",
    "        X : np.ndarray\n",
    "            Data matrix\n",
    "        y : np.ndarray\n",
    "            Binary target values\n",
    "\n",
    "        Returns\n",
    "        ---\n",
    "        None\n",
    "\n",
    "        \"\"\"\n",
    "        n = X.shape[0]\n",
    "        loss = 0\n",
    "        for i in range(n):\n",
    "            grad = self.gradient_loss(X[i], y[i], self.feature_function, self.theta)\n",
    "            grad_max = max(max(grad), grad_max) if i else max(grad)\n",
    "            self.theta -= self.alpha * grad\n",
    "            loss += self.loss(X[i], y[i], self.feature_function, self.theta)\n",
    "        return loss / n, grad_max\n",
    "\n",
    "    def fit(self, X: np.ndarray, y: np.ndarray):\n",
    "        \"\"\"Fits LogLinearModel class using gradient descent.\n",
    "\n",
    "        Parameters\n",
    "        ---\n",
    "        X : np.ndarray\n",
    "            Input data matrix\n",
    "        y : np.ndarray\n",
    "            Binary target values\n",
    "\n",
    "        Returns\n",
    "        ---\n",
    "        None\n",
    "\n",
    "        \"\"\"\n",
    "        self.theta = np.zeros(2 * X.shape[1])\n",
    "        for epoch in range(self.iterations):\n",
    "            if self.verbose:\n",
    "                print('step:', epoch+1, end=' ')\n",
    "            loss, grad_max = self.gradient_descent(X, y)\n",
    "            if self.verbose:\n",
    "                print('loss:', loss, 'max theta step:', -self.alpha * grad_max)\n",
    "\n",
    "    def predict(self, X: np.ndarray) -> np.ndarray:\n",
    "        \"\"\"Predicts binary target labels for input data `X`.\n",
    "\n",
    "        Parameters\n",
    "        ---\n",
    "        X : np.ndarray\n",
    "            Input data matrix\n",
    "\n",
    "        Returns\n",
    "        ---\n",
    "        np.ndarray\n",
    "            Predicted binary target labels\n",
    "\n",
    "        \"\"\"\n",
    "        if self.theta is None:\n",
    "            print('The model is not trained!')\n",
    "            return;\n",
    "        \n",
    "        n = X.shape[0]\n",
    "        result = np.zeros(n)\n",
    "        for i in range(n):\n",
    "            x_pos = self.feature_function(X[i], 1)\n",
    "            x_neg = self.feature_function(X[i], 0)\n",
    "            z_pos = np.dot(self.theta, x_pos)\n",
    "            z_neg = np.dot(self.theta, x_neg)\n",
    "            m = max(z_pos, z_neg)\n",
    "            z_pos -= m\n",
    "            z_neg -= m \n",
    "            y_pred = np.exp(z_pos) / (np.exp(z_pos) + np.exp(z_neg))\n",
    "            result[i] = int(round(y_pred))\n",
    "        \n",
    "        return result\n",
    "        "
   ]
  },
  {
   "cell_type": "code",
   "execution_count": 5,
   "metadata": {
    "id": "R3Ayb94i8Xmq",
    "jupyter": {
     "source_hidden": true
    },
    "tags": []
   },
   "outputs": [],
   "source": [
    "# Set seeds to ensure reproducibility\n",
    "np.random.seed(42)\n",
    "random.seed(42)"
   ]
  },
  {
   "cell_type": "code",
   "execution_count": 6,
   "metadata": {},
   "outputs": [],
   "source": [
    "learning_rate = 0.001\n",
    "\n",
    "def feature_function(x, y):\n",
    "    features = x.shape[0] \n",
    "    feature_vector = np.zeros(2 * features)\n",
    "    if y:\n",
    "        feature_vector[:features] = x\n",
    "    else:\n",
    "        feature_vector[features:] = x \n",
    "    return feature_vector\n",
    "\n",
    "def negative_log_likelihood(x, y, f, theta):\n",
    "    x_pos = f(x, y)\n",
    "    x_neg = f(x, 1-y)\n",
    "    z_pos = np.dot(theta, x_pos)\n",
    "    z_neg = np.dot(theta, x_neg)\n",
    "    m = max(z_pos, z_neg)\n",
    "    z_pos -= m\n",
    "    z_neg -= m \n",
    "    loss = -z_pos + np.log(np.exp(z_pos) + np.exp(z_neg)) \n",
    "    return loss\n",
    "\n",
    "def gradient_negative_log_likelihood(x, y, f, theta):\n",
    "    x_pos = f(x, y)\n",
    "    x_neg = f(x, 1-y)\n",
    "    z_pos = np.dot(theta, x_pos)\n",
    "    z_neg = np.dot(theta, x_neg)\n",
    "    m = max(z_pos, z_neg)\n",
    "    z_pos -= m\n",
    "    z_neg -= m \n",
    "    y_pred = np.exp(z_pos) / (np.exp(z_pos) + np.exp(z_neg))\n",
    "    return -x_pos + y_pred * x_pos"
   ]
  },
  {
   "cell_type": "code",
   "execution_count": 7,
   "metadata": {
    "id": "Ke2ULXNz8gvu"
   },
   "outputs": [],
   "source": [
    "lr = LogisticRegression()\n",
    "\n",
    "llm = LogLinearModel(\n",
    "    feature_function=feature_function,\n",
    "    learning_rate=learning_rate,                     \n",
    "    iterations=100,\n",
    "    loss=negative_log_likelihood,\n",
    "    gradient_loss=gradient_negative_log_likelihood\n",
    ")"
   ]
  },
  {
   "cell_type": "code",
   "execution_count": 8,
   "metadata": {
    "id": "s6Vpa6A78oNs"
   },
   "outputs": [
    {
     "name": "stdout",
     "output_type": "stream",
     "text": [
      "Training time:\n",
      "custom: 0.3581826686859131 sklearn: 0.008885622024536133\n",
      "Train accuracy:\n",
      "custom: 0.9125 sklearn: 0.925\n",
      "Test accuracy:\n",
      "custom: 0.6 sklearn: 0.6\n",
      "Coefficients:\n",
      "custom mean: 0.1089400096826735 custom std-dev: 0.5487270484780615\n",
      "sklearn mean: 0.08479289560242773 sklearn std-dev: 0.294020065437649\n"
     ]
    }
   ],
   "source": [
    "# First dataset\n",
    "# Fit both `lr` and your `llm` on this dataset and compare\n",
    "# the aspects described in the assignment PDF\n",
    "X, y = make_classification(\n",
    "    n_samples=100, random_state=42, n_informative=20, n_features=20, n_redundant=0\n",
    ")\n",
    "X_train, X_test, y_train, y_test = train_test_split(X, y, test_size=0.2, random_state=42)\n",
    "custom_start = time.time()\n",
    "llm.fit(X_train, y_train)\n",
    "custom_end = time.time()\n",
    "lr.fit(X_train, y_train)\n",
    "sklearn_end = time.time()\n",
    "print('Training time:')\n",
    "print('custom:', custom_end-custom_start, 'sklearn:', sklearn_end - custom_end)\n",
    "\n",
    "print('Train accuracy:')\n",
    "print('custom:', accuracy_score(llm.predict(X_train), y_train), 'sklearn:', accuracy_score(lr.predict(X_train), y_train))\n",
    "\n",
    "print('Test accuracy:')\n",
    "print('custom:', accuracy_score(llm.predict(X_test), y_test), 'sklearn:', accuracy_score(lr.predict(X_test), y_test))\n",
    "\n",
    "print('Coefficients:')\n",
    "print('custom mean:', np.mean(llm.theta), 'custom std-dev:', np.std(llm.theta))\n",
    "print('sklearn mean:', np.mean(lr.coef_), 'sklearn std-dev:', np.std(lr.coef_))"
   ]
  },
  {
   "cell_type": "code",
   "execution_count": 9,
   "metadata": {
    "id": "l7bQ0Zct8rQC"
   },
   "outputs": [
    {
     "name": "stdout",
     "output_type": "stream",
     "text": [
      "Training time:\n",
      "custom: 4.464803695678711 sklearn: 0.029375791549682617\n",
      "Train accuracy:\n",
      "custom: 0.80375 sklearn: 0.8225\n",
      "Test accuracy:\n",
      "custom: 0.79 sklearn: 0.805\n",
      "Coefficients:\n",
      "custom mean: -0.9367362157037764 custom std-dev: 6.553943921618124\n",
      "sklearn mean: 0.010623715299812776 sklearn std-dev: 0.13931276081542512\n"
     ]
    }
   ],
   "source": [
    "# Second dataset\n",
    "# Fit both `lr` and your `llm` on this dataset and compare\n",
    "# the aspects described in the assignment PDF\n",
    "X, y = make_classification(\n",
    "    n_samples=1000,\n",
    "    random_state=42,\n",
    "    n_informative=20,\n",
    "    n_redundant=10,\n",
    "    n_features=35,\n",
    "    n_repeated=5,\n",
    ")\n",
    "X_train, X_test, y_train, y_test = train_test_split(X, y, test_size=0.2, random_state=42)\n",
    "custom_start = time.time()\n",
    "llm.fit(X_train, y_train)\n",
    "custom_end = time.time()\n",
    "lr.fit(X_train, y_train)\n",
    "sklearn_end = time.time()\n",
    "print('Training time:')\n",
    "print('custom:', custom_end-custom_start, 'sklearn:', sklearn_end - custom_end)\n",
    "\n",
    "print('Train accuracy:')\n",
    "print('custom:', accuracy_score(llm.predict(X_train), y_train), 'sklearn:', accuracy_score(lr.predict(X_train), y_train))\n",
    "\n",
    "print('Test accuracy:')\n",
    "print('custom:', accuracy_score(llm.predict(X_test), y_test), 'sklearn:', accuracy_score(lr.predict(X_test), y_test))\n",
    "\n",
    "print('Coefficients:')\n",
    "print('custom mean:', np.mean(llm.theta), 'custom std-dev:', np.std(llm.theta))\n",
    "print('sklearn mean:', np.mean(lr.coef_), 'sklearn std-dev:', np.std(lr.coef_))"
   ]
  },
  {
   "cell_type": "code",
   "execution_count": 10,
   "metadata": {
    "id": "iThAvCNa8sWB"
   },
   "outputs": [
    {
     "name": "stdout",
     "output_type": "stream",
     "text": [
      "Training time:\n",
      "custom: 31.306190252304077 sklearn: 0.019410371780395508\n",
      "Train accuracy:\n",
      "custom: 0.889875 sklearn: 0.89125\n",
      "Test accuracy:\n",
      "custom: 0.891 sklearn: 0.8895\n",
      "Coefficients:\n",
      "custom mean: -0.486038182197737 custom std-dev: 2.0037916875930595\n",
      "sklearn mean: 0.12850040103483343 sklearn std-dev: 0.28418480428248816\n"
     ]
    }
   ],
   "source": [
    "# Third dataset\n",
    "# Fit both `lr` and your `llm` on this dataset and compare\n",
    "# the aspects described in the assignment PDF\n",
    "X, y = make_classification(\n",
    "    n_samples=10000, random_state=42, n_informative=2, n_repeated=5\n",
    ")\n",
    "X_train, X_test, y_train, y_test = train_test_split(X, y, test_size=0.2, random_state=42)\n",
    "custom_start = time.time()\n",
    "llm.fit(X_train, y_train)\n",
    "custom_end = time.time()\n",
    "lr.fit(X_train, y_train)\n",
    "sklearn_end = time.time()\n",
    "print('Training time:')\n",
    "print('custom:', custom_end-custom_start, 'sklearn:', sklearn_end - custom_end)\n",
    "\n",
    "print('Train accuracy:')\n",
    "print('custom:', accuracy_score(llm.predict(X_train), y_train), 'sklearn:', accuracy_score(lr.predict(X_train), y_train))\n",
    "\n",
    "print('Test accuracy:')\n",
    "print('custom:', accuracy_score(llm.predict(X_test), y_test), 'sklearn:', accuracy_score(lr.predict(X_test), y_test))\n",
    "\n",
    "print('Coefficients:')\n",
    "print('custom mean:', np.mean(llm.theta), 'custom std-dev:', np.std(llm.theta))\n",
    "print('sklearn mean:', np.mean(lr.coef_), 'sklearn std-dev:', np.std(lr.coef_))"
   ]
  },
  {
   "cell_type": "code",
   "execution_count": null,
   "metadata": {},
   "outputs": [],
   "source": []
  }
 ],
 "metadata": {
  "kernelspec": {
   "display_name": "Python 3.9.5 64-bit (windows store)",
   "name": "python395jvsc74a57bd003bccb481965698ee4628cc55789210ae4a797979fdf790b7e65bc49caf4bdb8"
  },
  "language_info": {
   "codemirror_mode": {
    "name": "ipython",
    "version": 3
   },
   "file_extension": ".py",
   "mimetype": "text/x-python",
   "name": "python",
   "nbconvert_exporter": "python",
   "pygments_lexer": "ipython3",
   "version": "3.9.5"
  },
  "metadata": {
   "interpreter": {
    "hash": "03bccb481965698ee4628cc55789210ae4a797979fdf790b7e65bc49caf4bdb8"
   }
  },
  "orig_nbformat": 3
 },
 "nbformat": 4,
 "nbformat_minor": 4
}