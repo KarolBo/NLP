{
 "cells": [
  {
   "cell_type": "code",
   "execution_count": 4,
   "metadata": {
    "id": "0XC5ASXZ8XDH"
   },
   "outputs": [],
   "source": [
    "import random\n",
    "import sys\n",
    "from typing import Callable, List\n",
    "\n",
    "import numpy as np\n",
    "import pandas as pd\n",
    "from sklearn.datasets import make_classification\n",
    "from sklearn.linear_model import LogisticRegression"
   ]
  },
  {
   "cell_type": "code",
   "execution_count": 5,
   "metadata": {
    "id": "PayJ9rfy8bvU"
   },
   "outputs": [],
   "source": [
    "class LogLinearModel:\n",
    "    def __init__(\n",
    "        self,\n",
    "        feature_function: Callable,\n",
    "        learning_rate: float,\n",
    "        iterations: int,\n",
    "        loss: Callable,\n",
    "        gradient_loss: Callable,\n",
    "        verbose: bool,\n",
    "    ):\n",
    "        \"\"\"\n",
    "        Parameters\n",
    "        ---\n",
    "        feature_function : Callable\n",
    "            Feature function mapping from X x Y -> R^m\n",
    "        learning_rate : float\n",
    "            Learning rate parameter eta for gradient descent\n",
    "        iterations : int\n",
    "            Number of iterations to run gradient descent for during `fit`\n",
    "        loss : Callable\n",
    "            Loss function to be used by this LogLinearModel instance as\n",
    "            a function of the parameters and the data X and y\n",
    "        gradient_loss : Callable\n",
    "            Closed form gradient of the `loss` function used for gradient descent as\n",
    "            a function of the parameters and the data X and y\n",
    "        verbose : bool\n",
    "            Verbosity level of the class. If verbose == True,\n",
    "            the class will print updates about the gradient\n",
    "            descent steps during `fit`\n",
    "\n",
    "        \"\"\"\n",
    "        # TODO\n",
    "        pass\n",
    "\n",
    "    def gradient_descent(self, X: np.ndarray, y: np.ndarray):\n",
    "        \"\"\"Performs one gradient descent step, and update parameters inplace.\n",
    "\n",
    "        Parameters\n",
    "        ---\n",
    "        X : np.ndarray\n",
    "            Data matrix\n",
    "        y : np.ndarray\n",
    "            Binary target values\n",
    "\n",
    "        Returns\n",
    "        ---\n",
    "        None\n",
    "\n",
    "        \"\"\"\n",
    "        # TODO\n",
    "        pass\n",
    "\n",
    "    def fit(self, X: np.ndarray, y: np.ndarray):\n",
    "        \"\"\"Fits LogLinearModel class using gradient descent.\n",
    "\n",
    "        Parameters\n",
    "        ---\n",
    "        X : np.ndarray\n",
    "            Input data matrix\n",
    "        y : np.ndarray\n",
    "            Binary target values\n",
    "\n",
    "        Returns\n",
    "        ---\n",
    "        None\n",
    "\n",
    "        \"\"\"\n",
    "        # TODO\n",
    "        pass\n",
    "\n",
    "    def predict(self, X: np.ndarray) -> np.ndarray:\n",
    "        \"\"\"Predicts binary target labels for input data `X`.\n",
    "\n",
    "        Parameters\n",
    "        ---\n",
    "        X : np.ndarray\n",
    "            Input data matrix\n",
    "\n",
    "        Returns\n",
    "        ---\n",
    "        np.ndarray\n",
    "            Predicted binary target labels\n",
    "\n",
    "        \"\"\"\n",
    "        # TODO\n",
    "        pass"
   ]
  },
  {
   "cell_type": "code",
   "execution_count": 6,
   "metadata": {
    "id": "R3Ayb94i8Xmq",
    "jupyter": {
     "source_hidden": true
    },
    "tags": []
   },
   "outputs": [],
   "source": [
    "# Set seeds to ensure reproducibility\n",
    "np.random.seed(42)\n",
    "random.seed(42)"
   ]
  },
  {
   "cell_type": "code",
   "execution_count": null,
   "metadata": {
    "id": "Ke2ULXNz8gvu"
   },
   "outputs": [],
   "source": [
    "lr = LogisticRegression()\n",
    "\n",
    "llm = LogLinearModel(\n",
    "    feature_function=feature_function,  # TODO\n",
    "    learning_rate=learning_rate,  # Make sure that the model converges\n",
    "                                  # with your chosen learning rate\n",
    "    iterations=100,\n",
    "    loss=negative_log_likelihood,  # TODO\n",
    "    gradient_loss=gradient_negative_log_likelihood,  # TODO\n",
    ")\n",
    "\n"
   ]
  },
  {
   "cell_type": "code",
   "execution_count": 8,
   "metadata": {
    "id": "s6Vpa6A78oNs"
   },
   "outputs": [],
   "source": [
    "# First dataset\n",
    "# Fit both `lr` and your `llm` on this dataset and compare\n",
    "# the aspects described in the assignment PDF\n",
    "X, y = make_classification(\n",
    "    n_samples=100, random_state=42, n_informative=20, n_features=20, n_redundant=0\n",
    ")\n"
   ]
  },
  {
   "cell_type": "code",
   "execution_count": 9,
   "metadata": {
    "id": "l7bQ0Zct8rQC"
   },
   "outputs": [],
   "source": [
    "# Second dataset\n",
    "# Fit both `lr` and your `llm` on this dataset and compare\n",
    "# the aspects described in the assignment PDF\n",
    "X, y = make_classification(\n",
    "    n_samples=1000,\n",
    "    random_state=42,\n",
    "    n_informative=20,\n",
    "    n_redundant=10,\n",
    "    n_features=35,\n",
    "    n_repeated=5,\n",
    ")\n"
   ]
  },
  {
   "cell_type": "code",
   "execution_count": 10,
   "metadata": {
    "id": "iThAvCNa8sWB"
   },
   "outputs": [],
   "source": [
    "# Third dataset\n",
    "# Fit both `lr` and your `llm` on this dataset and compare\n",
    "# the aspects described in the assignment PDF\n",
    "X, y = make_classification(\n",
    "    n_samples=10000, random_state=42, n_informative=2, n_repeated=5\n",
    ")\n"
   ]
  },
  {
   "cell_type": "code",
   "execution_count": null,
   "metadata": {
    "id": "B3k7InTb8t-8"
   },
   "outputs": [],
   "source": []
  }
 ],
 "metadata": {
  "colab": {
   "collapsed_sections": [],
   "name": "assignment_log_linear_models.ipynb",
   "provenance": []
  },
  "kernelspec": {
   "display_name": "Python 3",
   "language": "python",
   "name": "python3"
  },
  "language_info": {
   "codemirror_mode": {
    "name": "ipython",
    "version": 3
   },
   "file_extension": ".py",
   "mimetype": "text/x-python",
   "name": "python",
   "nbconvert_exporter": "python",
   "pygments_lexer": "ipython3",
   "version": "3.8.5"
  }
 },
 "nbformat": 4,
 "nbformat_minor": 4
}
