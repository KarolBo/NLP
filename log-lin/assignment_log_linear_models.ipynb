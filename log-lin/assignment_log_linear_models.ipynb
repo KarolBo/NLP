{
 "cells": [
  {
   "cell_type": "code",
   "execution_count": 409,
   "metadata": {
    "id": "0XC5ASXZ8XDH"
   },
   "outputs": [],
   "source": [
    "import random\n",
    "import sys\n",
    "from typing import Callable, List\n",
    "\n",
    "import numpy as np\n",
    "import pandas as pd\n",
    "from sklearn.datasets import make_classification\n",
    "from sklearn.linear_model import LogisticRegression\n",
    "\n",
    "from sklearn.metrics import accuracy_score"
   ]
  },
  {
   "cell_type": "code",
   "execution_count": 434,
   "metadata": {
    "id": "PayJ9rfy8bvU"
   },
   "outputs": [],
   "source": [
    "class LogLinearModel:\n",
    "    def __init__(\n",
    "        self,\n",
    "        feature_function: Callable,\n",
    "        learning_rate: float,\n",
    "        iterations: int,\n",
    "        loss: Callable,\n",
    "        gradient_loss: Callable,\n",
    "        verbose: bool = False,\n",
    "    ):\n",
    "        \"\"\"\n",
    "        Parameters\n",
    "        ---\n",
    "        feature_function : Callable\n",
    "            Feature function mapping from X x Y -> R^m\n",
    "        learning_rate : float\n",
    "            Learning rate parameter eta for gradient descent\n",
    "        iterations : int\n",
    "            Number of iterations to run gradient descent for during `fit`\n",
    "        loss : Callable\n",
    "            Loss function to be used by this LogLinearModel instance as\n",
    "            a function of the parameters and the data X and y\n",
    "        gradient_loss : Callable\n",
    "            Closed form gradient of the `loss` function used for gradient descent as\n",
    "            a function of the parameters and the data X and y\n",
    "        verbose : bool\n",
    "            Verbosity level of the class. If verbose == True,\n",
    "            the class will print updates about the gradient\n",
    "            descent steps during `fit`\n",
    "\n",
    "        \"\"\"\n",
    "        self.feature_function = feature_function\n",
    "        self.theta = None\n",
    "        self.alpha = learning_rate\n",
    "        self.iterations = iterations\n",
    "        self.loss = loss\n",
    "        self.gradient_loss = gradient_loss\n",
    "        self.verbose = verbose\n",
    "\n",
    "    def gradient_descent(self, X: np.ndarray, y: np.ndarray):\n",
    "        \"\"\"Performs one gradient descent step, and update parameters inplace.\n",
    "\n",
    "        Parameters\n",
    "        ---\n",
    "        X : np.ndarray\n",
    "            Data matrix\n",
    "        y : np.ndarray\n",
    "            Binary target values\n",
    "\n",
    "        Returns\n",
    "        ---\n",
    "        None\n",
    "\n",
    "        \"\"\"\n",
    "        n = X.shape[0]\n",
    "        loss = 0\n",
    "        for i in range(n):\n",
    "            grad = self.gradient_loss(X[i], y[i], self.feature_function, self.theta)\n",
    "            self.theta -= self.alpha * grad\n",
    "            loss += self.loss(X[i], y[i], self.feature_function, self.theta)\n",
    "        return loss / n\n",
    "\n",
    "    def fit(self, X: np.ndarray, y: np.ndarray):\n",
    "        \"\"\"Fits LogLinearModel class using gradient descent.\n",
    "\n",
    "        Parameters\n",
    "        ---\n",
    "        X : np.ndarray\n",
    "            Input data matrix\n",
    "        y : np.ndarray\n",
    "            Binary target values\n",
    "\n",
    "        Returns\n",
    "        ---\n",
    "        None\n",
    "\n",
    "        \"\"\"\n",
    "        self.theta = np.zeros(2 * X.shape[1])\n",
    "        for epoch in range(self.iterations):\n",
    "            if self.verbose:\n",
    "                print('step:', epoch+1, end=' ')\n",
    "            loss = self.gradient_descent(X, y)\n",
    "            if self.verbose:\n",
    "                print('loss:', loss)\n",
    "\n",
    "    def predict(self, X: np.ndarray) -> np.ndarray:\n",
    "        \"\"\"Predicts binary target labels for input data `X`.\n",
    "\n",
    "        Parameters\n",
    "        ---\n",
    "        X : np.ndarray\n",
    "            Input data matrix\n",
    "\n",
    "        Returns\n",
    "        ---\n",
    "        np.ndarray\n",
    "            Predicted binary target labels\n",
    "\n",
    "        \"\"\"\n",
    "        if self.theta is None:\n",
    "            print('The model is not trained!')\n",
    "            return;\n",
    "        \n",
    "        n = X.shape[0]\n",
    "        result = np.zeros(n)\n",
    "        for i in range(n):\n",
    "            x_pos = self.feature_function(X[i], 1)\n",
    "            x_neg = self.feature_function(X[i], 0)\n",
    "            z_pos = np.dot(self.theta, x_pos)\n",
    "            z_neg = np.dot(self.theta, x_neg)\n",
    "            m = max(z_pos, z_neg)\n",
    "            z_pos -= m\n",
    "            z_neg -= m \n",
    "            y_pred = np.exp(z_pos) / (np.exp(z_pos) + np.exp(z_neg))\n",
    "            result[i] = int(round(y_pred))\n",
    "        \n",
    "        return result\n",
    "        "
   ]
  },
  {
   "cell_type": "code",
   "execution_count": 435,
   "metadata": {
    "id": "R3Ayb94i8Xmq",
    "jupyter": {
     "source_hidden": true
    },
    "tags": []
   },
   "outputs": [],
   "source": [
    "# Set seeds to ensure reproducibility\n",
    "np.random.seed(42)\n",
    "random.seed(42)"
   ]
  },
  {
   "cell_type": "code",
   "execution_count": 436,
   "metadata": {},
   "outputs": [],
   "source": [
    "learning_rate = 0.001\n",
    "\n",
    "def feature_function(x, y):\n",
    "    features = x.shape[0] \n",
    "    feature_vector = np.zeros(2 * features)\n",
    "    if y:\n",
    "        feature_vector[:features] = x\n",
    "    else:\n",
    "        feature_vector[features:] = x \n",
    "    return feature_vector\n",
    "\n",
    "def negative_log_likelihood(x, y, f, theta):\n",
    "    x_pos = f(x, y)\n",
    "    x_neg = f(x, 1-y)\n",
    "    z_pos = np.dot(theta, x_pos)\n",
    "    z_neg = np.dot(theta, x_neg)\n",
    "    m = max(z_pos, z_neg)\n",
    "    z_pos -= m\n",
    "    z_neg -= m \n",
    "    loss = -z_pos + np.log(np.exp(z_pos) + np.exp(z_neg)) \n",
    "    return loss\n",
    "\n",
    "def gradient_negative_log_likelihood(x, y, f, theta):\n",
    "    x_pos = f(x, y)\n",
    "    x_neg = f(x, 1-y)\n",
    "    z_pos = np.dot(theta, x_pos)\n",
    "    z_neg = np.dot(theta, x_neg)\n",
    "    m = max(z_pos, z_neg)\n",
    "    z_pos -= m\n",
    "    z_neg -= m \n",
    "    y_pred = np.exp(z_pos) / (np.exp(z_pos) + np.exp(z_neg))\n",
    "    return -x_pos + y_pred * x_pos"
   ]
  },
  {
   "cell_type": "code",
   "execution_count": 437,
   "metadata": {
    "id": "Ke2ULXNz8gvu"
   },
   "outputs": [],
   "source": [
    "lr = LogisticRegression()\n",
    "\n",
    "llm = LogLinearModel(\n",
    "    feature_function=feature_function,\n",
    "    learning_rate=learning_rate,                     \n",
    "    iterations=100,\n",
    "    loss=negative_log_likelihood,\n",
    "    gradient_loss=gradient_negative_log_likelihood\n",
    ")"
   ]
  },
  {
   "cell_type": "code",
   "execution_count": 438,
   "metadata": {
    "id": "s6Vpa6A78oNs"
   },
   "outputs": [
    {
     "name": "stdout",
     "output_type": "stream",
     "text": [
      "0.85\n"
     ]
    }
   ],
   "source": [
    "# First dataset\n",
    "# Fit both `lr` and your `llm` on this dataset and compare\n",
    "# the aspects described in the assignment PDF\n",
    "X, y = make_classification(\n",
    "    n_samples=100, random_state=42, n_informative=20, n_features=20, n_redundant=0\n",
    ")\n",
    "\n",
    "llm.fit(X, y)\n",
    "print(accuracy_score(llm.predict(X), y))"
   ]
  },
  {
   "cell_type": "code",
   "execution_count": 439,
   "metadata": {
    "id": "l7bQ0Zct8rQC"
   },
   "outputs": [
    {
     "name": "stdout",
     "output_type": "stream",
     "text": [
      "0.8\n"
     ]
    }
   ],
   "source": [
    "# Second dataset\n",
    "# Fit both `lr` and your `llm` on this dataset and compare\n",
    "# the aspects described in the assignment PDF\n",
    "X, y = make_classification(\n",
    "    n_samples=1000,\n",
    "    random_state=42,\n",
    "    n_informative=20,\n",
    "    n_redundant=10,\n",
    "    n_features=35,\n",
    "    n_repeated=5,\n",
    ")\n",
    "\n",
    "llm.fit(X, y)\n",
    "print(accuracy_score(llm.predict(X), y))"
   ]
  },
  {
   "cell_type": "code",
   "execution_count": 440,
   "metadata": {
    "id": "iThAvCNa8sWB"
   },
   "outputs": [
    {
     "name": "stdout",
     "output_type": "stream",
     "text": [
      "0.8903\n"
     ]
    }
   ],
   "source": [
    "# Third dataset\n",
    "# Fit both `lr` and your `llm` on this dataset and compare\n",
    "# the aspects described in the assignment PDF\n",
    "X, y = make_classification(\n",
    "    n_samples=10000, random_state=42, n_informative=2, n_repeated=5\n",
    ")\n",
    "\n",
    "llm.fit(X, y)\n",
    "print(accuracy_score(llm.predict(X), y))"
   ]
  },
  {
   "cell_type": "code",
   "execution_count": null,
   "metadata": {},
   "outputs": [],
   "source": []
  }
 ],
 "metadata": {
  "colab": {
   "collapsed_sections": [],
   "name": "assignment_log_linear_models.ipynb",
   "provenance": []
  },
  "kernelspec": {
   "display_name": "Python 3",
   "language": "python",
   "name": "python3"
  },
  "language_info": {
   "codemirror_mode": {
    "name": "ipython",
    "version": 3
   },
   "file_extension": ".py",
   "mimetype": "text/x-python",
   "name": "python",
   "nbconvert_exporter": "python",
   "pygments_lexer": "ipython3",
   "version": "3.8.5"
  }
 },
 "nbformat": 4,
 "nbformat_minor": 4
}
